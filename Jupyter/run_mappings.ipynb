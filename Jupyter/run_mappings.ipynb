{
 "cells": [
  {
   "cell_type": "markdown",
   "metadata": {},
   "source": [
    "### Select your source mapping file\n",
    "Mapping file must be excel file that conforms to the mapping standard"
   ]
  },
  {
   "cell_type": "code",
   "execution_count": null,
   "metadata": {},
   "outputs": [],
   "source": [
    "import pandas as pd\n",
    "import fedelemflowlist\n",
    "from fedelemflowlist.globals import flowmappingpath, flowmapping_fields\n",
    "import xlrd\n",
    "from tkinter import filedialog"
   ]
  },
  {
   "cell_type": "code",
   "execution_count": null,
   "metadata": {},
   "outputs": [],
   "source": [
    "file = filedialog.askopenfilename()"
   ]
  },
  {
   "cell_type": "code",
   "execution_count": null,
   "metadata": {},
   "outputs": [],
   "source": [
    "mapping = pd.read_excel(file)\n",
    "mapping_length = len(mapping)\n",
    "print(mapping_length)\n",
    "all_flows = fedelemflowlist.get_flows()\n",
    "all_flows = all_flows[['Flowable', 'Context', 'Flow UUID', 'Unit']]\n",
    "mapping_w_flowinfo = pd.merge(mapping, all_flows,\n",
    "            left_on=['TargetFlowName', 'TargetFlowContext', 'TargetUnit'],\n",
    "            right_on=['Flowable', 'Context', 'Unit'])\n",
    "mapping_w_flowinfo = mapping_w_flowinfo.drop(columns=['TargetFlowUUID', 'Flowable',\n",
    "                                        'Context', 'Unit'])\n",
    "mapping_w_flowinfo = mapping_w_flowinfo.rename(columns={'Flow UUID': 'TargetFlowUUID'})\n",
    "mapping_merged_len = len(mapping_w_flowinfo)\n",
    "if mapping_length > mapping_merged_len:\n",
    "    print(\"Not all flows were mapped to flows in the list\")\n",
    "\n",
    "flowmapping_order = list(flowmapping_fields.keys())\n",
    "mapping_w_flowinfo = mapping_w_flowinfo[flowmapping_order]\n",
    "print(mapping_w_flowinfo)"
   ]
  },
  {
   "cell_type": "code",
   "execution_count": null,
   "metadata": {},
   "outputs": [],
   "source": [
    "directory = filedialog.askdirectory()"
   ]
  },
  {
   "cell_type": "code",
   "execution_count": null,
   "metadata": {},
   "outputs": [],
   "source": [
    "mapping_flow_uuids = pd.DataFrame(pd.unique(mapping_w_flowinfo['TargetFlowUUID']),columns=[\"Flow UUID\"])\n",
    "\n",
    "#Get all flows\n",
    "all_flows = fedelemflowlist.get_flows()\n",
    "#Subset all flows to get just those used in selected mapping\n",
    "flows_used_in_mapping =  pd.merge(all_flows,mapping_flow_uuids)\n",
    "\n",
    "#Now write out flows and mappings\n",
    "export_name = 'flows_w_mappings.zip'\n",
    "fedelemflowlist.write_jsonld(flows_used_in_mapping,directory+'/'+export_name,mapping_w_flowinfo)\n",
    "print(\"mapping file created as json\")"
   ]
  }
 ],
 "metadata": {
  "kernelspec": {
   "display_name": "Python 3",
   "language": "python",
   "name": "python3"
  },
  "language_info": {
   "codemirror_mode": {
    "name": "ipython",
    "version": 3
   },
   "file_extension": ".py",
   "mimetype": "text/x-python",
   "name": "python",
   "nbconvert_exporter": "python",
   "pygments_lexer": "ipython3",
   "version": "3.7.5"
  }
 },
 "nbformat": 4,
 "nbformat_minor": 4
}
