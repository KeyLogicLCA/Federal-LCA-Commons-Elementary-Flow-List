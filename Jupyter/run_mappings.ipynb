{
 "cells": [
  {
   "cell_type": "markdown",
   "metadata": {},
   "source": [
    "### Select your source mapping file\n",
    "Mapping file must be excel file that conforms to the mapping standard"
   ]
  },
  {
   "cell_type": "code",
   "execution_count": null,
   "metadata": {},
   "outputs": [],
   "source": [
    "import pandas as pd\n",
    "import fedelemflowlist\n",
    "from fedelemflowlist.globals import flowmappingpath, flowmapping_fields\n",
    "import os\n",
    "import ipywidgets as widgets\n",
    "from IPython.display import display, FileLink\n",
    "\n",
    "if not os.path.exists('./scratch'):\n",
    "    os.mkdir('./scratch')\n"
   ]
  },
  {
   "cell_type": "code",
   "execution_count": null,
   "metadata": {},
   "outputs": [],
   "source": [
    "uploader = widgets.FileUpload(\n",
    "     accept   = '.csv'\n",
    "    ,multiple = False\n",
    ")\n",
    "\n",
    "display(uploader)\n"
   ]
  },
  {
   "cell_type": "code",
   "execution_count": null,
   "metadata": {},
   "outputs": [],
   "source": [
    "if not uploader.value:\n",
    "    raise ValueError('Input Excel file is required to continue.')\n",
    "\n",
    "input_file = next(iter(uploader.value))\n",
    "input_full = r\"./scratch/\" + input_file\n",
    "\n",
    "if os.path.exists(input_full):\n",
    "    os.remove(input_full)\n",
    "    \n",
    "with open(input_full,\"wb\") as fp:\n",
    "    fp.write(uploader.value[input_file]['content']);\n",
    "    "
   ]
  },
  {
   "cell_type": "code",
   "execution_count": null,
   "metadata": {},
   "outputs": [],
   "source": [
    "mapping = pd.read_csv(input_full)\n",
    "mapping_length = len(mapping)\n",
    "print(mapping_length)\n",
    "all_flows = fedelemflowlist.get_flows()\n",
    "all_flows = all_flows[['Flowable', 'Context', 'Flow UUID', 'Unit']]\n",
    "mapping_w_flowinfo = pd.merge(mapping, all_flows,\n",
    "            left_on=['TargetFlowName', 'TargetFlowContext', 'TargetUnit'],\n",
    "            right_on=['Flowable', 'Context', 'Unit'])\n",
    "mapping_w_flowinfo = mapping_w_flowinfo.drop(columns=['TargetFlowUUID', 'Flowable',\n",
    "                                        'Context', 'Unit'])\n",
    "mapping_w_flowinfo = mapping_w_flowinfo.rename(columns={'Flow UUID': 'TargetFlowUUID'})\n",
    "mapping_merged_len = len(mapping_w_flowinfo)\n",
    "if mapping_length > mapping_merged_len:\n",
    "    print(\"Not all flows were mapped to flows in the list\")\n",
    "\n",
    "flowmapping_order = list(flowmapping_fields.keys())\n",
    "mapping_w_flowinfo = mapping_w_flowinfo[flowmapping_order]\n",
    "print(mapping_w_flowinfo)"
   ]
  },
  {
   "cell_type": "code",
   "execution_count": null,
   "metadata": {},
   "outputs": [],
   "source": [
    "output_file = 'flows_w_mappings.zip'\n",
    "output_full = r\"scratch/\" + output_file\n",
    "\n",
    "if os.path.exists(output_full):\n",
    "   os.remove(output_full)"
   ]
  },
  {
   "cell_type": "code",
   "execution_count": null,
   "metadata": {},
   "outputs": [],
   "source": [
    "mapping_flow_uuids = pd.DataFrame(pd.unique(mapping_w_flowinfo['TargetFlowUUID']),columns=[\"Flow UUID\"])\n",
    "\n",
    "#Get all flows\n",
    "all_flows = fedelemflowlist.get_flows()\n",
    "#Subset all flows to get just those used in selected mapping\n",
    "flows_used_in_mapping =  pd.merge(all_flows,mapping_flow_uuids)\n",
    "\n",
    "fedelemflowlist.write_jsonld(flows_used_in_mapping,output_full,mapping_w_flowinfo)\n",
    "print(\"mapping file created as json\")",
    "\n",
    "download = FileLink(output_full,result_html_prefix=\"Click here to download: \")\n",
    "display(download)\n"
   ]
  }
 ],
 "metadata": {
  "kernelspec": {
   "display_name": "Python 3",
   "language": "python",
   "name": "python3"
  },
  "language_info": {
   "codemirror_mode": {
    "name": "ipython",
    "version": 3
   },
   "file_extension": ".py",
   "mimetype": "text/x-python",
   "name": "python",
   "nbconvert_exporter": "python",
   "pygments_lexer": "ipython3",
   "version": "3.7.5"
  }
 },
 "nbformat": 4,
 "nbformat_minor": 4
}
