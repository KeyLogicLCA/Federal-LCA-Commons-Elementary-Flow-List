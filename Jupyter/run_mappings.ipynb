{
 "cells": [
  {
   "cell_type": "markdown",
   "metadata": {},
   "source": [
    "## Generate a mapping file with UUIDs for use in openLCA\n",
    "1. Run cell 1 to generate the upload button. Select your mapping file by clicking upload. The mapping file must be csv file that conforms to the mapping standard.\n",
    "2. Run cell 2 to add UUIDs. Conversion factors will be applied for any mappings that change units for which the alternate unit exists within the FEDEFL. The outcome will be printed on screen.\n",
    "3. Run cell 3 to generate a link for downloading the json mapping file (.zip) for use in openLCA\n",
    "\n",
    "_To restart, select Kernel --> \"Restart and Clear Output\"_"
   ]
  },
  {
   "cell_type": "code",
   "execution_count": null,
   "metadata": {
    "scrolled": false
   },
   "outputs": [],
   "source": [
    "## Step 1\n",
    "import pandas as pd\n",
    "import fedelemflowlist\n",
    "from fedelemflowlist.globals import flowmappingpath, flowmapping_fields\n",
    "import os\n",
    "import ipywidgets as widgets\n",
    "from IPython.display import display, FileLink\n",
    "\n",
    "if not os.path.exists('./scratch'):\n",
    "    os.mkdir('./scratch')\n",
    "\n",
    "uploader = widgets.FileUpload(\n",
    "     accept   = '.csv'\n",
    "    ,multiple = False\n",
    ")\n",
    "\n",
    "display(uploader)"
   ]
  },
  {
   "cell_type": "markdown",
   "metadata": {},
   "source": [
    "### Select the upload button above to upload your csv mapping file\n",
    "Then proceed to the next cell"
   ]
  },
  {
   "cell_type": "code",
   "execution_count": null,
   "metadata": {
    "scrolled": true
   },
   "outputs": [],
   "source": [
    "## Step 2\n",
    "if not uploader.value:\n",
    "    raise ValueError('Input Excel file is required to continue. Make sure to select the Upload button above before continuing.')\n",
    "\n",
    "input_file = next(iter(uploader.value))\n",
    "input_full = r\"./scratch/\" + input_file\n",
    "\n",
    "if os.path.exists(input_full):\n",
    "    os.remove(input_full)\n",
    "    \n",
    "with open(input_full,\"wb\") as fp:\n",
    "    fp.write(uploader.value[input_file]['content'])\n",
    "\n",
    "mapping = pd.read_csv(input_full)\n",
    "mapping_length = len(mapping)\n",
    "print(str(mapping_length) + ' flows in the mapping file.')\n",
    "all_flows = fedelemflowlist.get_flows()\n",
    "all_flows = all_flows[['Flowable', 'Context', 'Flow UUID', 'Unit']]\n",
    "mapping_w_flowinfo = pd.merge(mapping, all_flows,\n",
    "            left_on=['TargetFlowName', 'TargetFlowContext', 'TargetUnit'],\n",
    "            right_on=['Flowable', 'Context', 'Unit'])\n",
    "mapping_w_flowinfo = mapping_w_flowinfo.drop(columns=['TargetFlowUUID', 'Flowable',\n",
    "                                        'Context', 'Unit'])\n",
    "mapping_w_flowinfo = mapping_w_flowinfo.rename(columns={'Flow UUID': 'TargetFlowUUID'})\n",
    "mapping_merged_len = len(mapping_w_flowinfo)\n",
    "if mapping_length > mapping_merged_len:\n",
    "    print(\"Not all flows were mapped to flows in the list\")\n",
    "print('UUIDs added for ' + str(mapping_merged_len) + ' flows.')\n",
    "\n",
    "conversions = fedelemflowlist.get_alt_conversion()\n",
    "# merge in conversion factors where source unit = alternate unit\n",
    "mapping_w_conversion = pd.merge(mapping_w_flowinfo, conversions, how='left',\n",
    "                              left_on=['TargetFlowName', 'SourceUnit', 'TargetUnit'],\n",
    "                              right_on=['Flowable', 'AltUnit', 'Unit'])\n",
    "# update conversion factor where current conversion is 1 and the updated conversion exists\n",
    "converted1 = mapping_w_conversion['InverseConversionFactor'].notnull() \n",
    "converted2 = mapping_w_conversion['ConversionFactor']==1\n",
    "mapping_w_conversion['Convert']=converted1 & converted2\n",
    "mapping_w_conversion.loc[(mapping_w_conversion['Convert']==True), \n",
    "                         'ConversionFactor']=mapping_w_conversion['InverseConversionFactor']\n",
    "converted = mapping_w_conversion['Convert'].sum()\n",
    "print('Added conversion factors for ' + str(converted) + ' flows.')\n",
    "mapping_w_conversion = mapping_w_conversion.drop(columns=['Flowable','Unit',\n",
    "                                                     'AltUnit','AltUnitConversionFactor',\n",
    "                                                     'InverseConversionFactor', 'Convert'])\n",
    "flowmapping_order = list(flowmapping_fields.keys())\n",
    "mapping_w_conversion =  mapping_w_conversion[flowmapping_order]\n",
    "print(mapping_w_conversion)\n",
    "    "
   ]
  },
  {
   "cell_type": "code",
   "execution_count": null,
   "metadata": {},
   "outputs": [],
   "source": [
    "## Step 3\n",
    "output_file = 'flows_w_mappings.zip'\n",
    "output_full = r\"scratch/\" + output_file\n",
    "\n",
    "if os.path.exists(output_full):\n",
    "   os.remove(output_full)\n",
    "\n",
    "mapping_flow_uuids = pd.DataFrame(pd.unique(mapping_w_conversion['TargetFlowUUID']),columns=[\"Flow UUID\"])\n",
    "\n",
    "#Get all flows\n",
    "all_flows = fedelemflowlist.get_flows()\n",
    "#Subset all flows to get just those used in selected mapping\n",
    "flows_used_in_mapping =  pd.merge(all_flows,mapping_flow_uuids)\n",
    "\n",
    "fedelemflowlist.write_jsonld(flows_used_in_mapping,output_full,mapping_w_conversion)\n",
    "print(\"mapping file created as json\")\n",
    "download = FileLink(output_full,result_html_prefix=\"Click here to download: \")\n",
    "display(download)\n"
   ]
  }
 ],
 "metadata": {
  "celltoolbar": "Tags",
  "kernelspec": {
   "display_name": "Python 3",
   "language": "python",
   "name": "python3"
  },
  "language_info": {
   "codemirror_mode": {
    "name": "ipython",
    "version": 3
   },
   "file_extension": ".py",
   "mimetype": "text/x-python",
   "name": "python",
   "nbconvert_exporter": "python",
   "pygments_lexer": "ipython3",
   "version": "3.7.5"
  }
 },
 "nbformat": 4,
 "nbformat_minor": 4
}
